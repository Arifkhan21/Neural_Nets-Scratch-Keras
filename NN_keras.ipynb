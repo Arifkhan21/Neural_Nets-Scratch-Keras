{
 "cells": [
  {
   "cell_type": "code",
   "execution_count": 7,
   "metadata": {},
   "outputs": [],
   "source": [
    "import tensorflow \n",
    "import numpy as np\n",
    "import pandas as pd\n",
    "import matplotlib.pyplot as plt\n",
    "from keras.utils import np_utils\n",
    "from keras.models import Sequential\n",
    "from keras.layers import Dense,Activation"
   ]
  },
  {
   "cell_type": "code",
   "execution_count": 2,
   "metadata": {},
   "outputs": [
    {
     "data": {
      "text/html": [
       "<div>\n",
       "<style scoped>\n",
       "    .dataframe tbody tr th:only-of-type {\n",
       "        vertical-align: middle;\n",
       "    }\n",
       "\n",
       "    .dataframe tbody tr th {\n",
       "        vertical-align: top;\n",
       "    }\n",
       "\n",
       "    .dataframe thead th {\n",
       "        text-align: right;\n",
       "    }\n",
       "</style>\n",
       "<table border=\"1\" class=\"dataframe\">\n",
       "  <thead>\n",
       "    <tr style=\"text-align: right;\">\n",
       "      <th></th>\n",
       "      <th>label</th>\n",
       "      <th>pixel1</th>\n",
       "      <th>pixel2</th>\n",
       "      <th>pixel3</th>\n",
       "      <th>pixel4</th>\n",
       "      <th>pixel5</th>\n",
       "      <th>pixel6</th>\n",
       "      <th>pixel7</th>\n",
       "      <th>pixel8</th>\n",
       "      <th>pixel9</th>\n",
       "      <th>...</th>\n",
       "      <th>pixel775</th>\n",
       "      <th>pixel776</th>\n",
       "      <th>pixel777</th>\n",
       "      <th>pixel778</th>\n",
       "      <th>pixel779</th>\n",
       "      <th>pixel780</th>\n",
       "      <th>pixel781</th>\n",
       "      <th>pixel782</th>\n",
       "      <th>pixel783</th>\n",
       "      <th>pixel784</th>\n",
       "    </tr>\n",
       "  </thead>\n",
       "  <tbody>\n",
       "    <tr>\n",
       "      <th>0</th>\n",
       "      <td>0</td>\n",
       "      <td>0</td>\n",
       "      <td>0</td>\n",
       "      <td>0</td>\n",
       "      <td>0</td>\n",
       "      <td>0</td>\n",
       "      <td>0</td>\n",
       "      <td>0</td>\n",
       "      <td>9</td>\n",
       "      <td>8</td>\n",
       "      <td>...</td>\n",
       "      <td>103</td>\n",
       "      <td>87</td>\n",
       "      <td>56</td>\n",
       "      <td>0</td>\n",
       "      <td>0</td>\n",
       "      <td>0</td>\n",
       "      <td>0</td>\n",
       "      <td>0</td>\n",
       "      <td>0</td>\n",
       "      <td>0</td>\n",
       "    </tr>\n",
       "    <tr>\n",
       "      <th>1</th>\n",
       "      <td>1</td>\n",
       "      <td>0</td>\n",
       "      <td>0</td>\n",
       "      <td>0</td>\n",
       "      <td>0</td>\n",
       "      <td>0</td>\n",
       "      <td>0</td>\n",
       "      <td>0</td>\n",
       "      <td>0</td>\n",
       "      <td>0</td>\n",
       "      <td>...</td>\n",
       "      <td>34</td>\n",
       "      <td>0</td>\n",
       "      <td>0</td>\n",
       "      <td>0</td>\n",
       "      <td>0</td>\n",
       "      <td>0</td>\n",
       "      <td>0</td>\n",
       "      <td>0</td>\n",
       "      <td>0</td>\n",
       "      <td>0</td>\n",
       "    </tr>\n",
       "    <tr>\n",
       "      <th>2</th>\n",
       "      <td>2</td>\n",
       "      <td>0</td>\n",
       "      <td>0</td>\n",
       "      <td>0</td>\n",
       "      <td>0</td>\n",
       "      <td>0</td>\n",
       "      <td>0</td>\n",
       "      <td>14</td>\n",
       "      <td>53</td>\n",
       "      <td>99</td>\n",
       "      <td>...</td>\n",
       "      <td>0</td>\n",
       "      <td>0</td>\n",
       "      <td>0</td>\n",
       "      <td>0</td>\n",
       "      <td>63</td>\n",
       "      <td>53</td>\n",
       "      <td>31</td>\n",
       "      <td>0</td>\n",
       "      <td>0</td>\n",
       "      <td>0</td>\n",
       "    </tr>\n",
       "    <tr>\n",
       "      <th>3</th>\n",
       "      <td>2</td>\n",
       "      <td>0</td>\n",
       "      <td>0</td>\n",
       "      <td>0</td>\n",
       "      <td>0</td>\n",
       "      <td>0</td>\n",
       "      <td>0</td>\n",
       "      <td>0</td>\n",
       "      <td>0</td>\n",
       "      <td>0</td>\n",
       "      <td>...</td>\n",
       "      <td>137</td>\n",
       "      <td>126</td>\n",
       "      <td>140</td>\n",
       "      <td>0</td>\n",
       "      <td>133</td>\n",
       "      <td>224</td>\n",
       "      <td>222</td>\n",
       "      <td>56</td>\n",
       "      <td>0</td>\n",
       "      <td>0</td>\n",
       "    </tr>\n",
       "    <tr>\n",
       "      <th>4</th>\n",
       "      <td>3</td>\n",
       "      <td>0</td>\n",
       "      <td>0</td>\n",
       "      <td>0</td>\n",
       "      <td>0</td>\n",
       "      <td>0</td>\n",
       "      <td>0</td>\n",
       "      <td>0</td>\n",
       "      <td>0</td>\n",
       "      <td>0</td>\n",
       "      <td>...</td>\n",
       "      <td>0</td>\n",
       "      <td>0</td>\n",
       "      <td>0</td>\n",
       "      <td>0</td>\n",
       "      <td>0</td>\n",
       "      <td>0</td>\n",
       "      <td>0</td>\n",
       "      <td>0</td>\n",
       "      <td>0</td>\n",
       "      <td>0</td>\n",
       "    </tr>\n",
       "  </tbody>\n",
       "</table>\n",
       "<p>5 rows × 785 columns</p>\n",
       "</div>"
      ],
      "text/plain": [
       "   label  pixel1  pixel2  pixel3  pixel4  pixel5  pixel6  pixel7  pixel8  \\\n",
       "0      0       0       0       0       0       0       0       0       9   \n",
       "1      1       0       0       0       0       0       0       0       0   \n",
       "2      2       0       0       0       0       0       0      14      53   \n",
       "3      2       0       0       0       0       0       0       0       0   \n",
       "4      3       0       0       0       0       0       0       0       0   \n",
       "\n",
       "   pixel9    ...     pixel775  pixel776  pixel777  pixel778  pixel779  \\\n",
       "0       8    ...          103        87        56         0         0   \n",
       "1       0    ...           34         0         0         0         0   \n",
       "2      99    ...            0         0         0         0        63   \n",
       "3       0    ...          137       126       140         0       133   \n",
       "4       0    ...            0         0         0         0         0   \n",
       "\n",
       "   pixel780  pixel781  pixel782  pixel783  pixel784  \n",
       "0         0         0         0         0         0  \n",
       "1         0         0         0         0         0  \n",
       "2        53        31         0         0         0  \n",
       "3       224       222        56         0         0  \n",
       "4         0         0         0         0         0  \n",
       "\n",
       "[5 rows x 785 columns]"
      ]
     },
     "execution_count": 2,
     "metadata": {},
     "output_type": "execute_result"
    }
   ],
   "source": [
    "ds = pd.read_csv('fashion-mnist_test.csv')\n",
    "ds.head()"
   ]
  },
  {
   "cell_type": "code",
   "execution_count": 3,
   "metadata": {},
   "outputs": [],
   "source": [
    "data = np.array(ds)\n",
    "x_data = data[:,1:]\n",
    "y_data = data[:,0]\n",
    "x_data=x_data/255.0\n"
   ]
  },
  {
   "cell_type": "code",
   "execution_count": 4,
   "metadata": {},
   "outputs": [
    {
     "data": {
      "text/plain": [
       "(10000, 10)"
      ]
     },
     "execution_count": 4,
     "metadata": {},
     "output_type": "execute_result"
    }
   ],
   "source": [
    "Y=np_utils.to_categorical(y_data)\n",
    "Y.shape"
   ]
  },
  {
   "cell_type": "code",
   "execution_count": 6,
   "metadata": {},
   "outputs": [],
   "source": [
    "x_train = x_data[:8000,:]\n",
    "x_val = x_data[8000:,:]\n",
    "y_train = Y[:8000]\n",
    "y_val = Y[8000:]"
   ]
  },
  {
   "cell_type": "markdown",
   "metadata": {},
   "source": [
    "## Building the Model with Keras"
   ]
  },
  {
   "cell_type": "code",
   "execution_count": 17,
   "metadata": {},
   "outputs": [
    {
     "name": "stdout",
     "output_type": "stream",
     "text": [
      "_________________________________________________________________\n",
      "Layer (type)                 Output Shape              Param #   \n",
      "=================================================================\n",
      "dense_7 (Dense)              (None, 256)               200960    \n",
      "_________________________________________________________________\n",
      "activation_7 (Activation)    (None, 256)               0         \n",
      "_________________________________________________________________\n",
      "dense_8 (Dense)              (None, 64)                16448     \n",
      "_________________________________________________________________\n",
      "activation_8 (Activation)    (None, 64)                0         \n",
      "_________________________________________________________________\n",
      "dense_9 (Dense)              (None, 10)                650       \n",
      "_________________________________________________________________\n",
      "activation_9 (Activation)    (None, 10)                0         \n",
      "=================================================================\n",
      "Total params: 218,058\n",
      "Trainable params: 218,058\n",
      "Non-trainable params: 0\n",
      "_________________________________________________________________\n"
     ]
    }
   ],
   "source": [
    "model = Sequential()\n",
    "model.add(Dense(256,input_shape=(784,)))\n",
    "model.add(Activation('relu'))\n",
    "\n",
    "model.add(Dense(64))\n",
    "model.add(Activation('relu'))\n",
    "\n",
    "model.add(Dense(10))\n",
    "model.add(Activation('softmax'))\n",
    "model.summary()\n"
   ]
  },
  {
   "cell_type": "code",
   "execution_count": 18,
   "metadata": {},
   "outputs": [],
   "source": [
    "model.compile(optimizer='sgd',loss='categorical_crossentropy',metrics=['accuracy'])"
   ]
  },
  {
   "cell_type": "code",
   "execution_count": 19,
   "metadata": {},
   "outputs": [
    {
     "name": "stdout",
     "output_type": "stream",
     "text": [
      "Train on 8000 samples, validate on 2000 samples\n",
      "Epoch 1/50\n",
      " - 0s - loss: 2.0888 - acc: 0.2920 - val_loss: 1.8354 - val_acc: 0.5220\n",
      "Epoch 2/50\n",
      " - 0s - loss: 1.6794 - acc: 0.5719 - val_loss: 1.5184 - val_acc: 0.6145\n",
      "Epoch 3/50\n",
      " - 0s - loss: 1.4068 - acc: 0.6339 - val_loss: 1.3062 - val_acc: 0.6500\n",
      "Epoch 4/50\n",
      " - 0s - loss: 1.2230 - acc: 0.6609 - val_loss: 1.1581 - val_acc: 0.6640\n",
      "Epoch 5/50\n",
      " - 0s - loss: 1.0976 - acc: 0.6754 - val_loss: 1.0513 - val_acc: 0.6720\n",
      "Epoch 6/50\n",
      " - 0s - loss: 1.0086 - acc: 0.6905 - val_loss: 0.9775 - val_acc: 0.6825\n",
      "Epoch 7/50\n",
      " - 0s - loss: 0.9438 - acc: 0.7037 - val_loss: 0.9176 - val_acc: 0.6975\n",
      "Epoch 8/50\n",
      " - 0s - loss: 0.8929 - acc: 0.7167 - val_loss: 0.8708 - val_acc: 0.7105\n",
      "Epoch 9/50\n",
      " - 0s - loss: 0.8533 - acc: 0.7269 - val_loss: 0.8401 - val_acc: 0.7145\n",
      "Epoch 10/50\n",
      " - 0s - loss: 0.8208 - acc: 0.7362 - val_loss: 0.8070 - val_acc: 0.7330\n",
      "Epoch 11/50\n",
      " - 0s - loss: 0.7926 - acc: 0.7466 - val_loss: 0.7791 - val_acc: 0.7440\n",
      "Epoch 12/50\n",
      " - 0s - loss: 0.7693 - acc: 0.7571 - val_loss: 0.7612 - val_acc: 0.7490\n",
      "Epoch 13/50\n",
      " - 0s - loss: 0.7484 - acc: 0.7619 - val_loss: 0.7393 - val_acc: 0.7560\n",
      "Epoch 14/50\n",
      " - 0s - loss: 0.7306 - acc: 0.7698 - val_loss: 0.7191 - val_acc: 0.7675\n",
      "Epoch 15/50\n",
      " - 0s - loss: 0.7141 - acc: 0.7735 - val_loss: 0.7159 - val_acc: 0.7545\n",
      "Epoch 16/50\n",
      " - 0s - loss: 0.6996 - acc: 0.7766 - val_loss: 0.6993 - val_acc: 0.7805\n",
      "Epoch 17/50\n",
      " - 0s - loss: 0.6854 - acc: 0.7807 - val_loss: 0.6796 - val_acc: 0.7830\n",
      "Epoch 18/50\n",
      " - 0s - loss: 0.6728 - acc: 0.7895 - val_loss: 0.6718 - val_acc: 0.7800\n",
      "Epoch 19/50\n",
      " - 0s - loss: 0.6623 - acc: 0.7876 - val_loss: 0.6556 - val_acc: 0.7890\n",
      "Epoch 20/50\n",
      " - 0s - loss: 0.6510 - acc: 0.7951 - val_loss: 0.6531 - val_acc: 0.7835\n",
      "Epoch 21/50\n",
      " - 0s - loss: 0.6402 - acc: 0.7966 - val_loss: 0.6343 - val_acc: 0.7915\n",
      "Epoch 22/50\n",
      " - 0s - loss: 0.6310 - acc: 0.7969 - val_loss: 0.6248 - val_acc: 0.7960\n",
      "Epoch 23/50\n",
      " - 0s - loss: 0.6225 - acc: 0.8009 - val_loss: 0.6306 - val_acc: 0.7920\n",
      "Epoch 24/50\n",
      " - 0s - loss: 0.6132 - acc: 0.8021 - val_loss: 0.6056 - val_acc: 0.7980\n",
      "Epoch 25/50\n",
      " - 0s - loss: 0.6048 - acc: 0.8061 - val_loss: 0.5994 - val_acc: 0.8060\n",
      "Epoch 26/50\n",
      " - 0s - loss: 0.5979 - acc: 0.8094 - val_loss: 0.5939 - val_acc: 0.8065\n",
      "Epoch 27/50\n",
      " - 0s - loss: 0.5917 - acc: 0.8103 - val_loss: 0.5933 - val_acc: 0.8025\n",
      "Epoch 28/50\n",
      " - 0s - loss: 0.5833 - acc: 0.8132 - val_loss: 0.5775 - val_acc: 0.8065\n",
      "Epoch 29/50\n",
      " - 0s - loss: 0.5768 - acc: 0.8164 - val_loss: 0.5734 - val_acc: 0.8085\n",
      "Epoch 30/50\n",
      " - 0s - loss: 0.5716 - acc: 0.8139 - val_loss: 0.5654 - val_acc: 0.8180\n",
      "Epoch 31/50\n",
      " - 0s - loss: 0.5646 - acc: 0.8196 - val_loss: 0.5648 - val_acc: 0.8130\n",
      "Epoch 32/50\n",
      " - 0s - loss: 0.5609 - acc: 0.8191 - val_loss: 0.5612 - val_acc: 0.8130\n",
      "Epoch 33/50\n",
      " - 0s - loss: 0.5541 - acc: 0.8205 - val_loss: 0.5490 - val_acc: 0.8185\n",
      "Epoch 34/50\n",
      " - 0s - loss: 0.5487 - acc: 0.8227 - val_loss: 0.5502 - val_acc: 0.8150\n",
      "Epoch 35/50\n",
      " - 0s - loss: 0.5441 - acc: 0.8197 - val_loss: 0.5473 - val_acc: 0.8175\n",
      "Epoch 36/50\n",
      " - 0s - loss: 0.5396 - acc: 0.8245 - val_loss: 0.5373 - val_acc: 0.8240\n",
      "Epoch 37/50\n",
      " - 0s - loss: 0.5356 - acc: 0.8244 - val_loss: 0.5356 - val_acc: 0.8205\n",
      "Epoch 38/50\n",
      " - 0s - loss: 0.5303 - acc: 0.8269 - val_loss: 0.5433 - val_acc: 0.8200\n",
      "Epoch 39/50\n",
      " - 0s - loss: 0.5266 - acc: 0.8293 - val_loss: 0.5240 - val_acc: 0.8265\n",
      "Epoch 40/50\n",
      " - 0s - loss: 0.5240 - acc: 0.8297 - val_loss: 0.5378 - val_acc: 0.8140\n",
      "Epoch 41/50\n",
      " - 0s - loss: 0.5190 - acc: 0.8316 - val_loss: 0.5284 - val_acc: 0.8200\n",
      "Epoch 42/50\n",
      " - 0s - loss: 0.5135 - acc: 0.8339 - val_loss: 0.5195 - val_acc: 0.8185\n",
      "Epoch 43/50\n",
      " - 0s - loss: 0.5102 - acc: 0.8349 - val_loss: 0.5146 - val_acc: 0.8265\n",
      "Epoch 44/50\n",
      " - 0s - loss: 0.5080 - acc: 0.8329 - val_loss: 0.5782 - val_acc: 0.7885\n",
      "Epoch 45/50\n",
      " - 0s - loss: 0.5088 - acc: 0.8325 - val_loss: 0.5092 - val_acc: 0.8290\n",
      "Epoch 46/50\n",
      " - 0s - loss: 0.5013 - acc: 0.8355 - val_loss: 0.5191 - val_acc: 0.8215\n",
      "Epoch 47/50\n",
      " - 0s - loss: 0.4984 - acc: 0.8367 - val_loss: 0.5061 - val_acc: 0.8260\n",
      "Epoch 48/50\n",
      " - 0s - loss: 0.4945 - acc: 0.8370 - val_loss: 0.5046 - val_acc: 0.8255\n",
      "Epoch 49/50\n",
      " - 0s - loss: 0.4917 - acc: 0.8386 - val_loss: 0.5033 - val_acc: 0.8265\n",
      "Epoch 50/50\n",
      " - 0s - loss: 0.4894 - acc: 0.8369 - val_loss: 0.5025 - val_acc: 0.8260\n"
     ]
    }
   ],
   "source": [
    "history = model.fit(x_train,y_train,batch_size=256,epochs=50,verbose=2,validation_data=(x_val,y_val))"
   ]
  },
  {
   "cell_type": "code",
   "execution_count": 24,
   "metadata": {},
   "outputs": [
    {
     "data": {
      "image/png": "[encoded data removed]",
      "text/plain": [
       "<Figure size 432x288 with 1 Axes>"
      ]
     },
     "metadata": {
      "needs_background": "light"
     },
     "output_type": "display_data"
    }
   ],
   "source": [
    "plt.plot(history.history['loss'],'g',label='loss')\n",
    "plt.plot(history.history['val_loss'],'b',label='val_loss')\n",
    "plt.legend()\n",
    "plt.show()"
   ]
  },
  {
   "cell_type": "code",
   "execution_count": 25,
   "metadata": {},
   "outputs": [
    {
     "data": {
      "image/png": "[encoded data removed]",
      "text/plain": [
       "<Figure size 432x288 with 1 Axes>"
      ]
     },
     "metadata": {
      "needs_background": "light"
     },
     "output_type": "display_data"
    }
   ],
   "source": [
    "plt.plot(history.history['acc'],'b',label='accuracy')\n",
    "plt.plot(history.history['val_acc'],'r',label='val_accuracy')\n",
    "plt.legend()\n",
    "plt.show()"
   ]
  },
  {
   "cell_type": "code",
   "execution_count": null,
   "metadata": {},
   "outputs": [],
   "source": []
  }
 ],
 "metadata": {
  "kernelspec": {
   "display_name": "Python 3",
   "language": "python",
   "name": "python3"
  },
  "language_info": {
   "codemirror_mode": {
    "name": "ipython",
    "version": 2
   },
   "file_extension": ".py",
   "mimetype": "text/x-python",
   "name": "python",
   "nbconvert_exporter": "python",
   "pygments_lexer": "ipython2",
   "version": "2.7.12"
  }
 },
 "nbformat": 4,
 "nbformat_minor": 2
}
